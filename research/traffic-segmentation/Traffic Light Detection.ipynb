{
 "cells": [
  {
   "cell_type": "markdown",
   "metadata": {},
   "source": [
    "## Intro\n",
    "\n",
    "To set up you need to download the LISA dataset here:\n",
    "https://www.kaggle.com/mbornoe/lisa-traffic-light-dataset/notebooks\n",
    "\n",
    "\n"
   ]
  },
  {
   "cell_type": "code",
   "execution_count": 18,
   "metadata": {},
   "outputs": [],
   "source": [
    "import numpy as np\n",
    "import matplotlib.pyplot as plt\n",
    "import os\n",
    "import tensorflow as tf\n",
    "from glob import glob\n",
    "\n",
    "import urllib.request\n",
    "import requests\n",
    "\n",
    "\n",
    "model_file = \"http://download.tensorflow.org/models/object_detection/ssd_mobilenet_v1_coco_11_06_2017.tar.gz\""
   ]
  },
  {
   "cell_type": "code",
   "execution_count": 33,
   "metadata": {},
   "outputs": [],
   "source": [
    "# What model to download.\n",
    "MODEL_NAME = 'ssd_mobilenet_v1_coco_11_06_2017'\n",
    "MODEL_FILE = MODEL_NAME + '.tar.gz'\n",
    "DOWNLOAD_BASE = 'http://download.tensorflow.org/models/object_detection/'\n",
    "\n",
    "# Path to frozen detection graph. This is the actual model that is used for the object detection.\n",
    "model_path = \"./\"\n",
    "PATH_TO_CKPT = model_path + MODEL_NAME + '/frozen_inference_graph.pb'\n",
    "\n",
    "\n",
    "\n",
    "\n",
    "def download_model():\n",
    "    import six.moves.urllib as urllib\n",
    "    import tarfile\n",
    "    \n",
    "    model_file_url = DOWNLOAD_BASE + MODEL_FILE + MODEL_FILE\n",
    "    \n",
    "    r = urllib.request.urlopen(model_file_url)\n",
    "    with open(MODEL_FILE, \"wb\") as f:\n",
    "        for chunk in r.raw.stream(1024, decode_content=False):\n",
    "            if chunk:\n",
    "                f.write(chunk)\n",
    "\n",
    "                "
   ]
  },
  {
   "cell_type": "code",
   "execution_count": 34,
   "metadata": {},
   "outputs": [],
   "source": [
    "model = download_model()"
   ]
  },
  {
   "cell_type": "code",
   "execution_count": 26,
   "metadata": {},
   "outputs": [
    {
     "data": {
      "text/plain": [
       "'http://download.tensorflow.org/models/object_detection/ssd_mobilenet_v1_coco_11_06_2017.tar.gzssd_mobilenet_v1_coco_11_06_2017.tar.gz'"
      ]
     },
     "execution_count": 26,
     "metadata": {},
     "output_type": "execute_result"
    }
   ],
   "source": [
    "DOWNLOAD_BASE + MODEL_FILE + MODEL_FILE"
   ]
  },
  {
   "cell_type": "code",
   "execution_count": 37,
   "metadata": {},
   "outputs": [
    {
     "data": {
      "text/plain": [
       "'./ssd_mobilenet_v1_coco_11_06_2017/frozen_inference_graph.pb'"
      ]
     },
     "execution_count": 37,
     "metadata": {},
     "output_type": "execute_result"
    }
   ],
   "source": [
    "PATH_TO_CKPT = model_path + MODEL_NAME + '/frozen_inference_graph.pb'\n",
    "PATH_TO_CKPT"
   ]
  },
  {
   "cell_type": "code",
   "execution_count": 47,
   "metadata": {},
   "outputs": [],
   "source": [
    "def load_graph():\n",
    "    \n",
    "    detection_graph = tf.Graph()\n",
    "    with detection_graph.as_default():\n",
    "        od_graph_def = tf.GraphDef()\n",
    "        with tf.gfile.GFile(PATH_TO_CKPT, 'rb') as fid:\n",
    "            serialized_graph = fid.read()\n",
    "            od_graph_def.ParseFromString(serialized_graph)\n",
    "            tf.import_graph_def(od_graph_def, name='')\n",
    "    return detection_graph\n"
   ]
  },
  {
   "cell_type": "code",
   "execution_count": 49,
   "metadata": {},
   "outputs": [
    {
     "data": {
      "text/plain": [
       "<tensorflow.python.framework.ops.Graph at 0x64ca028d0>"
      ]
     },
     "execution_count": 49,
     "metadata": {},
     "output_type": "execute_result"
    }
   ],
   "source": [
    "detection_graph = load_graph()\n"
   ]
  },
  {
   "cell_type": "code",
   "execution_count": 52,
   "metadata": {},
   "outputs": [],
   "source": [
    "def select_boxes(boxes, classes, scores, score_threshold=0, target_class=10):\n",
    "    \"\"\"\n",
    "\n",
    "    :param boxes:\n",
    "    :param classes:\n",
    "    :param scores:\n",
    "    :param target_class: default traffic light id in COCO dataset is 10\n",
    "    :return:\n",
    "    \"\"\"\n",
    "\n",
    "    sq_scores = np.squeeze(scores)\n",
    "    sq_classes = np.squeeze(classes)\n",
    "    sq_boxes = np.squeeze(boxes)\n",
    "\n",
    "    sel_id = np.logical_and(sq_classes == target_class, sq_scores > score_threshold)\n",
    "\n",
    "    return sq_boxes[sel_id]"
   ]
  },
  {
   "cell_type": "code",
   "execution_count": 53,
   "metadata": {},
   "outputs": [],
   "source": [
    "class TLClassifier(object):\n",
    "    def __init__(self):\n",
    "\n",
    "        self.detection_graph = load_graph()\n",
    "        self.extract_graph_components()\n",
    "        self.sess = tf.Session(graph=self.detection_graph)\n",
    "\n",
    "        # run the first session to \"warm up\"\n",
    "        dummy_image = np.zeros((100, 100, 3))\n",
    "        self.detect_multi_object(dummy_image,0.1)\n",
    "        self.traffic_light_box = None\n",
    "        self.classified_index = 0\n",
    "\n",
    "    def extract_graph_components(self):\n",
    "        # Definite input and output Tensors for detection_graph\n",
    "        self.image_tensor = self.detection_graph.get_tensor_by_name('image_tensor:0')\n",
    "        # Each box represents a part of the image where a particular object was detected.\n",
    "        self.detection_boxes = self.detection_graph.get_tensor_by_name('detection_boxes:0')\n",
    "        # Each score represent how level of confidence for each of the objects.\n",
    "        # Score is shown on the result image, together with the class label.\n",
    "        self.detection_scores = self.detection_graph.get_tensor_by_name('detection_scores:0')\n",
    "        self.detection_classes = self.detection_graph.get_tensor_by_name('detection_classes:0')\n",
    "        self.num_detections = self.detection_graph.get_tensor_by_name('num_detections:0')\n",
    "    \n",
    "    def detect_multi_object(self, image_np, score_threshold):\n",
    "        \"\"\"\n",
    "        Return detection boxes in a image\n",
    "\n",
    "        :param image_np:\n",
    "        :param score_threshold:\n",
    "        :return:\n",
    "        \"\"\"\n",
    "\n",
    "        # Expand dimensions since the model expects images to have shape: [1, None, None, 3]\n",
    "        image_np_expanded = np.expand_dims(image_np, axis=0)\n",
    "        # Actual detection.\n",
    "\n",
    "        (boxes, scores, classes, num) = self.sess.run(\n",
    "            [self.detection_boxes, self.detection_scores, self.detection_classes, self.num_detections],\n",
    "            feed_dict={self.image_tensor: image_np_expanded})\n",
    "\n",
    "        sel_boxes = select_boxes(boxes=boxes, classes=classes, scores=scores,\n",
    "                                 score_threshold=score_threshold, target_class=10)\n",
    "\n",
    "        return sel_boxes"
   ]
  },
  {
   "cell_type": "code",
   "execution_count": 54,
   "metadata": {},
   "outputs": [],
   "source": [
    "tlc=TLClassifier()\n"
   ]
  },
  {
   "cell_type": "code",
   "execution_count": 55,
   "metadata": {},
   "outputs": [
    {
     "data": {
      "text/plain": [
       "<__main__.TLClassifier at 0x638ceea90>"
      ]
     },
     "execution_count": 55,
     "metadata": {},
     "output_type": "execute_result"
    }
   ],
   "source": [
    "tlc"
   ]
  },
  {
   "cell_type": "code",
   "execution_count": null,
   "metadata": {},
   "outputs": [],
   "source": []
  }
 ],
 "metadata": {
  "kernelspec": {
   "display_name": "Python [conda env:udacity]",
   "language": "python",
   "name": "conda-env-udacity-py"
  },
  "language_info": {
   "codemirror_mode": {
    "name": "ipython",
    "version": 3
   },
   "file_extension": ".py",
   "mimetype": "text/x-python",
   "name": "python",
   "nbconvert_exporter": "python",
   "pygments_lexer": "ipython3",
   "version": "3.7.7"
  }
 },
 "nbformat": 4,
 "nbformat_minor": 4
}
